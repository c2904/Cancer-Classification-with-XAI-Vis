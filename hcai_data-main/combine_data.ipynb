{
 "cells": [
  {
   "cell_type": "code",
   "id": "initial_id",
   "metadata": {
    "collapsed": true,
    "ExecuteTime": {
     "end_time": "2025-05-22T15:38:25.052579Z",
     "start_time": "2025-05-22T15:38:24.379924Z"
    }
   },
   "source": [
    "import pandas as pd\n",
    "\n",
    "clinical_data = pd.read_csv(\"hcai_data-main/difg_glass_clinical_data_reduced.tsv.txt\", sep=\"\\t\")\n",
    "mutation_data1 = pd.read_csv(\"hcai_data-main/difg_glass_mutations_filteredfreq2_part1.tsv.txt\", sep=\"\\t\")\n",
    "mutation_data2 = pd.read_csv(\"hcai_data-main/difg_glass_mutations_filteredfreq2_part2.tsv.txt\", sep=\"\\t\")\n",
    "\n",
    "clinical_data.rename(columns={'Sample ID': 'SAMPLE_ID'}, inplace=True)\n",
    "\n",
    "mutation_merge = pd.merge(mutation_data1, mutation_data2, on=\"SAMPLE_ID\", how=\"left\")\n",
    "final_merge = pd.merge(mutation_merge, clinical_data, on='SAMPLE_ID', how='left')\n",
    "\n",
    "final_merge.to_csv(\"hcai_data-main/combined_data.tsv.txt\", sep='\\t', index=False)\n"
   ],
   "outputs": [],
   "execution_count": 5
  },
  {
   "metadata": {},
   "cell_type": "code",
   "outputs": [],
   "execution_count": null,
   "source": "",
   "id": "2c102d9a4bfbcfc1"
  }
 ],
 "metadata": {
  "kernelspec": {
   "display_name": "Python 3",
   "language": "python",
   "name": "python3"
  },
  "language_info": {
   "codemirror_mode": {
    "name": "ipython",
    "version": 2
   },
   "file_extension": ".py",
   "mimetype": "text/x-python",
   "name": "python",
   "nbconvert_exporter": "python",
   "pygments_lexer": "ipython2",
   "version": "2.7.6"
  }
 },
 "nbformat": 4,
 "nbformat_minor": 5
}
