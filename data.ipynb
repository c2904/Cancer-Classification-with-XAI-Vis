{
 "cells": [
  {
   "cell_type": "code",
   "execution_count": 34,
   "metadata": {},
   "outputs": [
    {
     "name": "stdout",
     "output_type": "stream",
     "text": [
      "Requirement already satisfied: matplotlib in ./venv/lib/python3.11/site-packages (3.10.3)\n",
      "Requirement already satisfied: fonttools>=4.22.0 in ./venv/lib/python3.11/site-packages (from matplotlib) (4.58.0)\n",
      "Requirement already satisfied: pyparsing>=2.3.1 in ./venv/lib/python3.11/site-packages (from matplotlib) (3.2.3)\n",
      "Requirement already satisfied: pillow>=8 in ./venv/lib/python3.11/site-packages (from matplotlib) (11.2.1)\n",
      "Requirement already satisfied: kiwisolver>=1.3.1 in ./venv/lib/python3.11/site-packages (from matplotlib) (1.4.8)\n",
      "Requirement already satisfied: python-dateutil>=2.7 in ./venv/lib/python3.11/site-packages (from matplotlib) (2.9.0.post0)\n",
      "Requirement already satisfied: contourpy>=1.0.1 in ./venv/lib/python3.11/site-packages (from matplotlib) (1.3.2)\n",
      "Requirement already satisfied: cycler>=0.10 in ./venv/lib/python3.11/site-packages (from matplotlib) (0.12.1)\n",
      "Requirement already satisfied: packaging>=20.0 in ./venv/lib/python3.11/site-packages (from matplotlib) (25.0)\n",
      "Requirement already satisfied: numpy>=1.23 in ./venv/lib/python3.11/site-packages (from matplotlib) (2.2.5)\n",
      "Requirement already satisfied: six>=1.5 in ./venv/lib/python3.11/site-packages (from python-dateutil>=2.7->matplotlib) (1.17.0)\n",
      "\u001b[33mWARNING: You are using pip version 21.3.1; however, version 25.1.1 is available.\n",
      "You should consider upgrading via the '/home/nina/Schreibtisch/HCI/Projekt/venv/bin/python -m pip install --upgrade pip' command.\u001b[0m\n"
     ]
    }
   ],
   "source": [
    "!pip install matplotlib\n"
   ]
  },
  {
   "cell_type": "code",
   "execution_count": 35,
   "metadata": {},
   "outputs": [
    {
     "name": "stdout",
     "output_type": "stream",
     "text": [
      "Accuracy: 0.759\n",
      "\n",
      " Confusion Matrix:\n",
      " [[17 20]\n",
      " [12 84]]\n",
      "\n",
      " Classification Report:\n",
      "               precision    recall  f1-score   support\n",
      "\n",
      "         0.0       0.59      0.46      0.52        37\n",
      "         1.0       0.81      0.88      0.84        96\n",
      "\n",
      "    accuracy                           0.76       133\n",
      "   macro avg       0.70      0.67      0.68       133\n",
      "weighted avg       0.75      0.76      0.75       133\n",
      "\n"
     ]
    },
    {
     "data": {
      "image/png": "[encoded data removed]",
      "text/plain": [
       "<Figure size 640x480 with 2 Axes>"
      ]
     },
     "metadata": {},
     "output_type": "display_data"
    }
   ],
   "source": [
    "# 📦 Imports\n",
    "import pandas as pd\n",
    "import numpy as np\n",
    "import matplotlib.pyplot as plt\n",
    "from sklearn.model_selection import train_test_split\n",
    "from sklearn.ensemble import RandomForestClassifier\n",
    "from sklearn.metrics import accuracy_score, confusion_matrix, classification_report, ConfusionMatrixDisplay\n",
    "from sklearn.linear_model import LogisticRegression\n",
    "\n",
    "\n",
    "\n",
    "clinical_data = pd.read_csv(\"hcai_data-main/difg_glass_clinical_data.tsv\", sep=\"\\t\")\n",
    "\n",
    "# 🧠 2. Zielvariable (Survival_Class) extrahieren aus \"0:LIVING\" / \"1:DECEASED\"\n",
    "def extract_survival_class(val):\n",
    "    try:\n",
    "        return int(str(val).split(\":\")[0])  # nimmt 0 oder 1\n",
    "    except:\n",
    "        return np.nan\n",
    "\n",
    "clinical_data[\"Survival_Class\"] = clinical_data[\"Overall Survival\"].apply(extract_survival_class)\n",
    "\n",
    "#Survival_Class -> targer \n",
    "# \n",
    "cols = [\n",
    "    \"Survival_Class\", \"Age\", \"Radiation Dose\",\n",
    "    \"TMZ Treatment\", \"Radiotherapy Treatment\",\n",
    "    \"Concurrent TMZ Treatment\", \"Cancer Type\", \"Cancer Type Detailed\"\n",
    "]\n",
    "df = clinical_data[cols].copy()\n",
    "\n",
    "# handle nan values\n",
    "df = df.dropna(subset=[\"Survival_Class\"])\n",
    "df[\"Age\"] = df[\"Age\"].fillna(df[\"Age\"].median())\n",
    "df[\"Radiation Dose\"] = df[\"Radiation Dose\"].fillna(0)\n",
    "\n",
    "# 🔁 5. Kategorische Variablen in numerische (One-Hot-Encoding)\n",
    "df_encoded = pd.get_dummies(df,\n",
    "    columns=[\"TMZ Treatment\", \"Radiotherapy Treatment\", \"Concurrent TMZ Treatment\",\n",
    "             \"Cancer Type\", \"Cancer Type Detailed\"],\n",
    "    drop_first=True\n",
    ")\n",
    "\n",
    "# 📊 6. Feature-Matrix (X) und Zielvariable (y) trennen\n",
    "X = df_encoded.drop(columns=[\"Survival_Class\"]) #feature matrix\n",
    "y = df_encoded[\"Survival_Class\"] #target\n",
    "\n",
    "\n",
    "X_train, X_test, y_train, y_test = train_test_split(X, y, test_size=0.2, random_state=42)\n",
    "\n",
    "# train - random forest\n",
    "model = RandomForestClassifier(random_state=42)\n",
    "model.fit(X_train, y_train)\n",
    "\n",
    "\n",
    "y_pred = model.predict(X_test)\n",
    "\n",
    "#train - logic regression\n",
    "log_model = LogisticRegression(max_iter=1000, class_weight=\"balanced\", random_state=42)\n",
    "log_model.fit(X_train, y_train)\n",
    "y_pred_log = log_model.predict(X_test)\n",
    "\n",
    "print(\"Accuracy:\", round(accuracy_score(y_test, y_pred), 3))\n",
    "print(\"\\n Confusion Matrix:\\n\", confusion_matrix(y_test, y_pred))\n",
    "print(\"\\n Classification Report:\\n\", classification_report(y_test, y_pred))\n",
    "\n",
    "# visualize\n",
    "ConfusionMatrixDisplay.from_estimator(model, X_test, y_test, cmap='Blues')\n",
    "plt.title(\"Confusion Matrix – Survival Classification\")\n",
    "plt.tight_layout()\n",
    "plt.show()\n",
    "\n",
    "# f1 score für verstorbene ziemlich gut (0.84)\n",
    "# f1 Wert für lebende Patienten ausbaufähig (0.52)\n",
    "# gesamtaccuracy ok\n",
    "# modell erkennt lebende patienten noch schlecht\n",
    "\n",
    "\n",
    "\n",
    "print(\" Logistic Regression Ergebnisse\")\n",
    "print(\" Accuracy:\", round(accuracy_score(y_test, y_pred_log), 3))\n",
    "print(\"\\n Classification Report:\\n\", classification_report(y_test, y_pred_log))\n",
    "print(\"\\n Confusion Matrix:\\n\", confusion_matrix(y_test, y_pred_log))\n",
    "\n",
    "ConfusionMatrixDisplay.from_estimator(log_model, X_test, y_test, cmap='Oranges')\n",
    "plt.title(\"Confusion Matrix – Logistic Regression\")\n",
    "plt.tight_layout()\n",
    "plt.show()\n"
   ]
  }
 ],
 "metadata": {
  "kernelspec": {
   "display_name": "venv",
   "language": "python",
   "name": "python3"
  },
  "language_info": {
   "codemirror_mode": {
    "name": "ipython",
    "version": 3
   },
   "file_extension": ".py",
   "mimetype": "text/x-python",
   "name": "python",
   "nbconvert_exporter": "python",
   "pygments_lexer": "ipython3",
   "version": "3.11.6"
  }
 },
 "nbformat": 4,
 "nbformat_minor": 2
}
